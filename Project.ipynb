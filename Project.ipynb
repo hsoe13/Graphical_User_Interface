{
 "cells": [
  {
   "cell_type": "code",
   "execution_count": null,
   "id": "20b8a887",
   "metadata": {},
   "outputs": [],
   "source": [
    "from Inverse import *\n",
    "from Plot import *\n",
    "import tkinter as tk\n",
    "from tkinter import ttk\n",
    "\n",
    "\n",
    "def main():\n",
    "    window = Tk()\n",
    "    window.geometry(\"1200x900\")\n",
    "    window.title(\"Matrix\")\n",
    "    \n",
    "    tabControl = ttk.Notebook(window)\n",
    "    \n",
    "    tab2 = ttk.Frame(tabControl)\n",
    "    tab3 = ttk.Frame(tabControl)\n",
    "    \n",
    "    tabControl.add(tab2, text=\"Inverse Matrix\")\n",
    "    tabControl.add(tab3, text=\"Data Visualization\")\n",
    "    tabControl.pack(expand = 1, fill=\"both\")\n",
    "    dot2(tab2)\n",
    "    dot3(tab3)\n",
    "    window.mainloop()\n",
    "    \n",
    "if __name__ == \"__main__\":\n",
    "    main()"
   ]
  },
  {
   "cell_type": "code",
   "execution_count": null,
   "id": "2ded36fc",
   "metadata": {},
   "outputs": [],
   "source": []
  }
 ],
 "metadata": {
  "kernelspec": {
   "display_name": "Python 3",
   "language": "python",
   "name": "python3"
  },
  "language_info": {
   "codemirror_mode": {
    "name": "ipython",
    "version": 3
   },
   "file_extension": ".py",
   "mimetype": "text/x-python",
   "name": "python",
   "nbconvert_exporter": "python",
   "pygments_lexer": "ipython3",
   "version": "3.8.8"
  }
 },
 "nbformat": 4,
 "nbformat_minor": 5
}
